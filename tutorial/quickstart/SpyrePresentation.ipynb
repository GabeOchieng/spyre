{
 "cells": [
  {
   "cell_type": "markdown",
   "metadata": {
    "slideshow": {
     "slide_type": "slide"
    }
   },
   "source": [
    "# Simple Interactive Web Applications with Spyre"
   ]
  },
  {
   "cell_type": "markdown",
   "metadata": {},
   "source": [
    "Spyre is a web application framework for turning static data tables and plots into interactive web apps.  Spyre was motivated by <a href=\"http://shiny.rstudio.com/\">Shiny</a>, a similar framework for R created by the developers of Rstudio."
   ]
  },
  {
   "cell_type": "markdown",
   "metadata": {},
   "source": [
    "## Where does Spyre Live?"
   ]
  },
  {
   "cell_type": "markdown",
   "metadata": {},
   "source": [
    "GitHub: <a href='https://github.com/adamhajari/spyre'>github.com/adamhajari/spyre</a>\n",
    "\n",
    "Live example of a spyre app: <a href='http://adamhajari.com'>adamhajari.com</a>"
   ]
  },
  {
   "cell_type": "markdown",
   "metadata": {},
   "source": [
    "## Installing Spyre"
   ]
  },
  {
   "cell_type": "markdown",
   "metadata": {},
   "source": [
    "Spyre depends on:\n",
    " - cherrypy (server and backend)\n",
    " - jinja2 (html and javascript templating)\n",
    " - matplotlib (displaying plots and images)\n",
    " - pandas (for working within tabular data)\n",
    " \n",
    "Assuming you don't have any issues with the above dependencies, you can install spyre via pip:\n",
    "```bash\n",
    "$ pip install dataspyre\n",
    "```"
   ]
  },
  {
   "cell_type": "markdown",
   "metadata": {},
   "source": [
    "## Launching a Spyre App"
   ]
  },
  {
   "cell_type": "markdown",
   "metadata": {},
   "source": [
    "Spyre's server module has a App class that every Spyre app will needs to inherit. Use the app's launch() method to deploy your app."
   ]
  },
  {
   "cell_type": "code",
   "execution_count": 25,
   "metadata": {
    "collapsed": false
   },
   "outputs": [],
   "source": [
    "from spyre import server\n",
    "\n",
    "class SimpleApp(server.App):\n",
    "    pass\n",
    "\n",
    "app = SimpleApp()\n",
    "# app.launch()  # this won't launch from ipython notebook, uncomment to actually launch"
   ]
  },
  {
   "cell_type": "markdown",
   "metadata": {},
   "source": [
    "If you put the above code in a file called simple_app.py you can launch the app from the command line with\n",
    "```\n",
    "$ python simple_app.py\n",
    "```\n",
    "Make sure you uncomment the last line and don't try to run this within ipython notebook. Things will break."
   ]
  },
  {
   "cell_type": "markdown",
   "metadata": {},
   "source": [
    "## A Very Simple Example"
   ]
  },
  {
   "cell_type": "markdown",
   "metadata": {},
   "source": [
    "There are two variables of the App class that need to be overridden to create the UI for a Spyre app: inputs and outputs (a third type, controls, is also often useful, but not absolutely neccessary). All three variables are lists of dictionaries which specify each component's properties. For instance, to create a text box input, overide the App's inputs variable:"
   ]
  },
  {
   "cell_type": "code",
   "execution_count": 3,
   "metadata": {
    "collapsed": false
   },
   "outputs": [],
   "source": [
    "inputs = [{ \"input_type\":\"text\",\n",
    "            \"variable_name\":\"freq\",\n",
    "            \"label\": \"frequency\",\n",
    "            \"value\":5,\n",
    "            \"action_id\":\"plot_sine_wave\"}]"
   ]
  },
  {
   "cell_type": "markdown",
   "metadata": {},
   "source": [
    "An input variable's value can be used by any of the app's outputs by referencing the variable_name can. The action_id is a reference to either an output_id of an output element or a control_id of a control element. The output referenced by the above input can be defined by overriding the App's outputs variable:"
   ]
  },
  {
   "cell_type": "code",
   "execution_count": 4,
   "metadata": {
    "collapsed": false
   },
   "outputs": [],
   "source": [
    "outputs = [{\"output_type\":\"plot\",\n",
    "            \"output_id\":\"plot_sine_wave\",\n",
    "            \"on_page_load\":True }]"
   ]
  },
  {
   "cell_type": "markdown",
   "metadata": {},
   "source": [
    "Notice that the action_id from the text input matches the output_id above. As a result, an update to the text field will trigger an update to the output. Finally, we must override the method that generates the plot. Let's make a sine wave:"
   ]
  },
  {
   "cell_type": "code",
   "execution_count": 5,
   "metadata": {
    "collapsed": false
   },
   "outputs": [],
   "source": [
    "import numpy as np\n",
    "from matplotlib import pyplot as plt\n",
    "\n",
    "def getPlot(self,params):\n",
    "    f = int(params['freq'])\n",
    "    x = np.arange(1,6,0.01)\n",
    "    y = np.sin(f*x)\n",
    "    plt.plot(x,y)\n",
    "    return plt.gcf()"
   ]
  },
  {
   "cell_type": "markdown",
   "metadata": {},
   "source": [
    "The getPlot method should return a pyplot figure.  \n",
    "\n",
    "If we put it all together and add a title we get"
   ]
  },
  {
   "cell_type": "code",
   "execution_count": 32,
   "metadata": {
    "collapsed": false
   },
   "outputs": [],
   "source": [
    "from spyre import server\n",
    "\n",
    "import numpy as np\n",
    "from matplotlib import pyplot as plt\n",
    "\n",
    "class SimpleSineApp(server.App):\n",
    "    title = \"Simple App\"\n",
    "    inputs = [{ \"input_type\":\"text\",\n",
    "                \"variable_name\":\"freq\",\n",
    "                \"label\": \"frequency\",\n",
    "                \"value\":5,\n",
    "                \"action_id\":\"plot_sine_wave\"}]\n",
    "\n",
    "    outputs = [{\"output_type\":\"plot\",\n",
    "                \"output_id\":\"plot_sine_wave\",\n",
    "                \"on_page_load\":True }]\n",
    "\n",
    "    def getPlot(self,params):\n",
    "        f = float(params['freq'])\n",
    "        x = np.arange(1,6,0.01)\n",
    "        y = np.sin(f*x)\n",
    "        plt.plot(x,y)\n",
    "        return plt.gcf()\n",
    "\n",
    "app = SimpleSineApp()\n",
    "# app.launch()"
   ]
  },
  {
   "cell_type": "markdown",
   "metadata": {},
   "source": [
    "Notice that the inputs and outputs variables not only specify what type of elements to include in an app's interface, but also how they're connected to eachother. The connection in this example is simple: a change in the input state updates the output. \n",
    "\n",
    "<img src=\"simple_input-output.png\">"
   ]
  },
  {
   "cell_type": "markdown",
   "metadata": {},
   "source": [
    "## Under the Hood: Auto-Generating the Front-End with Jinja"
   ]
  },
  {
   "cell_type": "markdown",
   "metadata": {},
   "source": [
    "Spyre uses the jinja2 templating library to turn the dictionary inputs and outputs into HTML and javascript. Here's a snippet from Spyre's HTML template that generates the text inputs:"
   ]
  },
  {
   "cell_type": "markdown",
   "metadata": {},
   "source": [
    "<img src=\"jinja_snapshot.png\">\n",
    "\n",
    "This (and the rest of the templated page) gets rendered using the app's inputs and outputs attributes\n",
    "\n",
    "<img src=\"jinja_rendered.png\">\n",
    "\n",
    "If the above code looks foreign to you or HTML/javascript just isn't your thing, that's fine. No knowledge of anything other than python is required to create and launch a Spyre app."
   ]
  },
  {
   "cell_type": "markdown",
   "metadata": {},
   "source": [
    "## Another Example"
   ]
  },
  {
   "cell_type": "markdown",
   "metadata": {},
   "source": [
    "Let's suppose you've written a function to grab historical stock price data from the web. Your function returns a pandas dataframe from which you can easily generate graphs of stock prices over time."
   ]
  },
  {
   "cell_type": "code",
   "execution_count": 6,
   "metadata": {
    "collapsed": false
   },
   "outputs": [
    {
     "data": {
      "text/html": [
       "<div>\n",
       "<style scoped>\n",
       "    .dataframe tbody tr th:only-of-type {\n",
       "        vertical-align: middle;\n",
       "    }\n",
       "\n",
       "    .dataframe tbody tr th {\n",
       "        vertical-align: top;\n",
       "    }\n",
       "\n",
       "    .dataframe thead th {\n",
       "        text-align: right;\n",
       "    }\n",
       "</style>\n",
       "<table border=\"1\" class=\"dataframe\">\n",
       "  <thead>\n",
       "    <tr style=\"text-align: right;\">\n",
       "      <th></th>\n",
       "      <th>Open</th>\n",
       "      <th>High</th>\n",
       "      <th>Low</th>\n",
       "      <th>Close</th>\n",
       "    </tr>\n",
       "  </thead>\n",
       "  <tbody>\n",
       "    <tr>\n",
       "      <th>2018-01-29 16:00:00</th>\n",
       "      <td>170.160</td>\n",
       "      <td>170.1600</td>\n",
       "      <td>167.07</td>\n",
       "      <td>167.96</td>\n",
       "    </tr>\n",
       "    <tr>\n",
       "      <th>2018-01-30 16:00:00</th>\n",
       "      <td>165.525</td>\n",
       "      <td>167.3700</td>\n",
       "      <td>164.70</td>\n",
       "      <td>166.97</td>\n",
       "    </tr>\n",
       "    <tr>\n",
       "      <th>2018-01-31 16:00:00</th>\n",
       "      <td>166.870</td>\n",
       "      <td>168.4417</td>\n",
       "      <td>166.50</td>\n",
       "      <td>167.43</td>\n",
       "    </tr>\n",
       "    <tr>\n",
       "      <th>2018-02-01 16:00:00</th>\n",
       "      <td>167.165</td>\n",
       "      <td>168.6200</td>\n",
       "      <td>166.76</td>\n",
       "      <td>167.78</td>\n",
       "    </tr>\n",
       "    <tr>\n",
       "      <th>2018-02-02 16:00:00</th>\n",
       "      <td>166.000</td>\n",
       "      <td>166.8000</td>\n",
       "      <td>160.10</td>\n",
       "      <td>160.50</td>\n",
       "    </tr>\n",
       "  </tbody>\n",
       "</table>\n",
       "</div>"
      ],
      "text/plain": [
       "                        Open      High     Low   Close\n",
       "2018-01-29 16:00:00  170.160  170.1600  167.07  167.96\n",
       "2018-01-30 16:00:00  165.525  167.3700  164.70  166.97\n",
       "2018-01-31 16:00:00  166.870  168.4417  166.50  167.43\n",
       "2018-02-01 16:00:00  167.165  168.6200  166.76  167.78\n",
       "2018-02-02 16:00:00  166.000  166.8000  160.10  160.50"
      ]
     },
     "execution_count": 6,
     "metadata": {},
     "output_type": "execute_result"
    }
   ],
   "source": [
    "from googlefinance.client import get_price_data\n",
    "\n",
    "def getData(params):\n",
    "        ticker = params['ticker']\n",
    "        xchng = \"NASD\"\n",
    "        param = {\n",
    "            'q': ticker,  # Stock symbol (ex: \"AAPL\")\n",
    "            'i': \"86400\",  # Interval size in seconds (\"86400\" = 1 day intervals)\n",
    "            'x': xchng,  # Stock exchange symbol on which stock is traded (ex: \"NASD\")\n",
    "            'p': \"3M\"  # Period (Ex: \"1Y\" = 1 year)\n",
    "        }\n",
    "        df = get_price_data(param)\n",
    "        return df.drop('Volume', axis=1)\n",
    "\n",
    "params = {'ticker':'AAPL'}\n",
    "df = getData(params)\n",
    "df.head()"
   ]
  },
  {
   "cell_type": "markdown",
   "metadata": {},
   "source": [
    "To turn this into a Spyre app we just need to put the code that creates the plot into a getPlot() method and define the inputs and outputs. Let's use a dropdown menu input this time."
   ]
  },
  {
   "cell_type": "code",
   "execution_count": null,
   "metadata": {
    "collapsed": false
   },
   "outputs": [],
   "source": [
    "from spyre import server\n",
    "from googlefinance.client import get_price_data\n",
    "\n",
    "server.include_df_index = True\n",
    "\n",
    "\n",
    "class StockExample(server.App):\n",
    "    title = \"Historical Stock Prices\"\n",
    "\n",
    "    inputs = [{\n",
    "        \"type\": 'dropdown',\n",
    "        \"label\": 'Company',\n",
    "        \"options\": [\n",
    "            {\"label\": \"Google\", \"value\": \"GOOG\"},\n",
    "            {\"label\": \"Amazon\", \"value\": \"AMZN\"},\n",
    "            {\"label\": \"Apple\", \"value\": \"AAPL\"}\n",
    "        ],\n",
    "        \"key\": 'ticker',\n",
    "        \"action_id\": \"plot\"\n",
    "    }]\n",
    "\n",
    "    outputs = [{\n",
    "        \"type\": \"plot\",\n",
    "        \"id\": \"plot\",\n",
    "        \"control_id\": \"update_data\"\n",
    "    }]\n",
    "\n",
    "    def getData(self, params):\n",
    "        ticker = params['ticker']\n",
    "        xchng = \"NASD\"\n",
    "        param = {\n",
    "            'q': ticker,  # Stock symbol (ex: \"AAPL\")\n",
    "            'i': \"86400\",  # Interval size in seconds (\"86400\" = 1 day intervals)\n",
    "            'x': xchng,  # Stock exchange symbol on which stock is traded (ex: \"NASD\")\n",
    "            'p': \"3M\"  # Period (Ex: \"1Y\" = 1 year)\n",
    "        }\n",
    "        df = get_price_data(param)\n",
    "        return df.drop('Volume', axis=1)\n",
    "\n",
    "    def getPlot(self, params):\n",
    "        df = self.getData(params)\n",
    "        plt_obj = df.plot()\n",
    "        plt_obj.set_ylabel(\"Price\")\n",
    "        plt_obj.set_xlabel(\"Date\")\n",
    "        plt_obj.set_title(params['ticker'])\n",
    "        return plt_obj\n",
    "\n",
    "\n",
    "app = StockExample()\n",
    "app.launch()"
   ]
  },
  {
   "cell_type": "markdown",
   "metadata": {},
   "source": [
    "Let's also add a second output: a data table.  To generate this table we just need to override the getData method (which we've conveniently already done). This method should return a pandas DataFrame.  \n",
    "\n",
    "Since our inputs can only have one action_id and there are two outputs that need to be updated, we'll also add an update button to our app.  The button is a type of control. All controls have a control_id which can be referenced by our outputs, such that a control action (clicking the button in this case) results in an update to those outputs."
   ]
  },
  {
   "cell_type": "code",
   "execution_count": null,
   "metadata": {
    "collapsed": false
   },
   "outputs": [],
   "source": [
    "from spyre import server\n",
    "from googlefinance.client import get_price_data\n",
    "\n",
    "server.include_df_index = True\n",
    "\n",
    "\n",
    "class StockExample(server.App):\n",
    "    title = \"Historical Stock Prices\"\n",
    "\n",
    "    inputs = [{\n",
    "        \"type\": 'dropdown',\n",
    "        \"label\": 'Company',\n",
    "        \"options\": [\n",
    "            {\"label\": \"Google\", \"value\": \"GOOG\"},\n",
    "            {\"label\": \"Amazon\", \"value\": \"AMZN\"},\n",
    "            {\"label\": \"Apple\", \"value\": \"AAPL\"}\n",
    "        ],\n",
    "        \"key\": 'ticker',\n",
    "    }]\n",
    "\n",
    "    outputs = [{\n",
    "        \"type\": \"plot\",\n",
    "        \"id\": \"plot\",\n",
    "        \"control_id\": \"update_data\"\n",
    "    }, {\n",
    "        \"type\": \"table\",\n",
    "        \"id\": \"table_id\",\n",
    "        \"control_id\": \"update_data\"\n",
    "    }]\n",
    "\n",
    "    controls = [{\n",
    "        \"type\": \"button\",\n",
    "        \"label\": \"get stock data\",\n",
    "        \"id\": \"update_data\"\n",
    "    }]\n",
    "\n",
    "    def getData(self, params):\n",
    "        ticker = params['ticker']\n",
    "        xchng = \"NASD\"\n",
    "        param = {\n",
    "            'q': ticker,  # Stock symbol (ex: \"AAPL\")\n",
    "            'i': \"86400\",  # Interval size in seconds (\"86400\" = 1 day intervals)\n",
    "            'x': xchng,  # Stock exchange symbol on which stock is traded (ex: \"NASD\")\n",
    "            'p': \"3M\"  # Period (Ex: \"1Y\" = 1 year)\n",
    "        }\n",
    "        df = get_price_data(param)\n",
    "        return df.drop('Volume', axis=1)\n",
    "\n",
    "    def getPlot(self, params):\n",
    "        df = self.getData(params)\n",
    "        plt_obj = df.plot()\n",
    "        plt_obj.set_ylabel(\"Price\")\n",
    "        plt_obj.set_xlabel(\"Date\")\n",
    "        plt_obj.set_title(params['ticker'])\n",
    "        return plt_obj\n",
    "\n",
    "\n",
    "app = StockExample()\n",
    "app.launch()"
   ]
  },
  {
   "cell_type": "markdown",
   "metadata": {},
   "source": [
    "Finally we'll put each of the outputs in separate tabs and add an action_id to the dropdown input that references the \"update_data\" control. Now, a change to the input state triggers the button to be \"clicked\". This makes the existence of a \"button\" supurfluous, so we'll change the control_type to \"hidden\""
   ]
  },
  {
   "cell_type": "code",
   "execution_count": 27,
   "metadata": {
    "collapsed": false
   },
   "outputs": [],
   "source": [
    "from spyre import server\n",
    "from googlefinance.client import get_price_data\n",
    "\n",
    "server.include_df_index = True\n",
    "\n",
    "\n",
    "class StockExample(server.App):\n",
    "    title = \"Historical Stock Prices\"\n",
    "\n",
    "    inputs = [{\n",
    "        \"type\": 'dropdown',\n",
    "        \"label\": 'Company',\n",
    "        \"options\": [\n",
    "            {\"label\": \"Google\", \"value\": \"GOOG\"},\n",
    "            {\"label\": \"Amazon\", \"value\": \"AMZN\"},\n",
    "            {\"label\": \"Apple\", \"value\": \"AAPL\"}\n",
    "        ],\n",
    "        \"key\": 'ticker',\n",
    "        \"action_id\": \"update_data\"\n",
    "    }]\n",
    "\n",
    "    tabs = [\"Plot\", \"Table\"]\n",
    "\n",
    "    outputs = [{\n",
    "        \"type\": \"plot\",\n",
    "        \"id\": \"plot\",\n",
    "        \"control_id\": \"update_data\",\n",
    "        \"tab\": \"Plot\"\n",
    "    }, {\n",
    "        \"type\": \"table\",\n",
    "        \"id\": \"table_id\",\n",
    "        \"control_id\": \"update_data\",\n",
    "        \"tab\": \"Table\"\n",
    "    }]\n",
    "\n",
    "    controls = [{\n",
    "        \"type\": \"hidden\",\n",
    "        \"label\": \"get stock data\",\n",
    "        \"id\": \"update_data\"\n",
    "    }]\n",
    "\n",
    "    def getData(self, params):\n",
    "        ticker = params['ticker']\n",
    "        xchng = \"NASD\"\n",
    "        param = {\n",
    "            'q': ticker,  # Stock symbol (ex: \"AAPL\")\n",
    "            'i': \"86400\",  # Interval size in seconds (\"86400\" = 1 day intervals)\n",
    "            'x': xchng,  # Stock exchange symbol on which stock is traded (ex: \"NASD\")\n",
    "            'p': \"3M\"  # Period (Ex: \"1Y\" = 1 year)\n",
    "        }\n",
    "        df = get_price_data(param)\n",
    "        return df.drop('Volume', axis=1)\n",
    "\n",
    "    def getPlot(self, params):\n",
    "        df = self.getData(params)\n",
    "        plt_obj = df.plot()\n",
    "        plt_obj.set_ylabel(\"Price\")\n",
    "        plt_obj.set_xlabel(\"Date\")\n",
    "        plt_obj.set_title(params['ticker'])\n",
    "        return plt_obj\n",
    "\n",
    "\n",
    "app = StockExample()\n",
    "app.launch()"
   ]
  },
  {
   "cell_type": "markdown",
   "metadata": {},
   "source": [
    "<img src='two__outputs.png'>"
   ]
  },
  {
   "cell_type": "markdown",
   "metadata": {},
   "source": [
    "## More Examples On GitHub"
   ]
  },
  {
   "cell_type": "markdown",
   "metadata": {},
   "source": [
    "There are five input types\n",
    " - text\n",
    " - slider\n",
    " - dropdown\n",
    " - radiobutton\n",
    " - checkbox group\n",
    " \n",
    "and 4 output types:\n",
    " - plots\n",
    " - images\n",
    " - tables\n",
    " - html\n",
    "\n",
    "Examples of all are available on github in the examples directory."
   ]
  },
  {
   "cell_type": "markdown",
   "metadata": {},
   "source": [
    "## Who Am I?"
   ]
  },
  {
   "cell_type": "markdown",
   "metadata": {},
   "source": [
    "```\n",
    "Adam Hajari\n",
    "Data Scientist at Next Big Sound\n",
    "adam@nextbigsound.com\n",
    "@adamhajari\n",
    "```"
   ]
  },
  {
   "cell_type": "code",
   "execution_count": null,
   "metadata": {
    "collapsed": false
   },
   "outputs": [],
   "source": []
  }
 ],
 "metadata": {
  "kernelspec": {
   "display_name": "Python 2",
   "language": "python",
   "name": "python2"
  },
  "language_info": {
   "codemirror_mode": {
    "name": "ipython",
    "version": 2
   },
   "file_extension": ".py",
   "mimetype": "text/x-python",
   "name": "python",
   "nbconvert_exporter": "python",
   "pygments_lexer": "ipython2",
   "version": "2.7.12"
  }
 },
 "nbformat": 4,
 "nbformat_minor": 0
}
